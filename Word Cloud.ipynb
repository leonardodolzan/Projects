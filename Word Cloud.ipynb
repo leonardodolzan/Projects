{
 "cells": [
  {
   "cell_type": "markdown",
   "id": "3bc90bae",
   "metadata": {},
   "source": [
    "# Nuvem de Palavras:\n",
    "## Um caso de uso legal para o que aprendemos até agora"
   ]
  },
  {
   "cell_type": "markdown",
   "id": "db63b4db",
   "metadata": {},
   "source": [
    "https://www.wordclouds.com/"
   ]
  },
  {
   "cell_type": "markdown",
   "id": "1aa16ae8",
   "metadata": {},
   "source": [
    "https://github.com/amueller/word_cloud"
   ]
  },
  {
   "cell_type": "markdown",
   "id": "ac42e5ea",
   "metadata": {},
   "source": [
    "## Um pouquinho de HTML e CSS\n",
    "### Motivação\n",
    "### Exibindo um HTML/CSS"
   ]
  },
  {
   "cell_type": "code",
   "execution_count": 1,
   "id": "9aa01691",
   "metadata": {},
   "outputs": [],
   "source": [
    "from IPython.core.display import display, HTML"
   ]
  },
  {
   "cell_type": "code",
   "execution_count": 2,
   "id": "bbb8df2b",
   "metadata": {},
   "outputs": [
    {
     "data": {
      "text/html": [
       "<img src=\"wordcloud.jpg\">"
      ],
      "text/plain": [
       "<IPython.core.display.HTML object>"
      ]
     },
     "metadata": {},
     "output_type": "display_data"
    }
   ],
   "source": [
    "display(HTML('<img src=\"wordcloud.jpg\">'))"
   ]
  },
  {
   "cell_type": "code",
   "execution_count": 3,
   "id": "967b6c22",
   "metadata": {},
   "outputs": [
    {
     "data": {
      "text/html": [
       "<style>\n",
       "ul.cloud {\n",
       "  list-style: none;\n",
       "  padding-left: 0;\n",
       "  display: flex;\n",
       "  flex-wrap: wrap;\n",
       "  align-items: center;\n",
       "  justify-content: center;\n",
       "  line-height: 2.75rem;\n",
       "  width: 600px;\n",
       "}\n",
       "\n",
       "ul.cloud a {\n",
       "  --size: 4;\n",
       "  --color: #a33;\n",
       "  color: var(--color);\n",
       "  font-size: calc(var(--size) * 0.25rem + 0.5rem);\n",
       "  display: block;\n",
       "  padding: 0.125rem 0.25rem;\n",
       "  position: relative;\n",
       "  text-decoration: none;\n",
       "}\n",
       "\n",
       "ul.cloud a[data-weight=\"1\"] { --size: 1; }\n",
       "ul.cloud a[data-weight=\"2\"] { --size: 2; }\n",
       "ul.cloud a[data-weight=\"3\"] { --size: 3; }\n",
       "ul.cloud a[data-weight=\"4\"] { --size: 4; }\n",
       "ul.cloud a[data-weight=\"5\"] { --size: 5; }\n",
       "ul.cloud a[data-weight=\"6\"] { --size: 6; }\n",
       "ul.cloud a[data-weight=\"7\"] { --size: 7; }\n",
       "ul.cloud a[data-weight=\"8\"] { --size: 8; }\n",
       "ul.cloud a[data-weight=\"9\"] { --size: 9; }\n",
       "ul.cloud a[data-weight=\"10\"] { --size: 10; }\n",
       "\n",
       "ul[data-show-value] a::after {\n",
       "  content: \" (\" attr(data-weight) \")\";\n",
       "  font-size: 1rem;\n",
       "}\n",
       "\n",
       "ul.cloud li:nth-child(2n+1) a { --color: #181; }\n",
       "ul.cloud li:nth-child(3n+1) a { --color: #33a; }\n",
       "ul.cloud li:nth-child(4n+1) a { --color: #c38; }\n",
       "</style>\n"
      ],
      "text/plain": [
       "<IPython.core.display.HTML object>"
      ]
     },
     "metadata": {},
     "output_type": "display_data"
    }
   ],
   "source": [
    "%%html\n",
    "<style>\n",
    "ul.cloud {\n",
    "  list-style: none;\n",
    "  padding-left: 0;\n",
    "  display: flex;\n",
    "  flex-wrap: wrap;\n",
    "  align-items: center;\n",
    "  justify-content: center;\n",
    "  line-height: 2.75rem;\n",
    "  width: 600px;\n",
    "}\n",
    "\n",
    "ul.cloud a {\n",
    "  --size: 4;\n",
    "  --color: #a33;\n",
    "  color: var(--color);\n",
    "  font-size: calc(var(--size) * 0.25rem + 0.5rem);\n",
    "  display: block;\n",
    "  padding: 0.125rem 0.25rem;\n",
    "  position: relative;\n",
    "  text-decoration: none;\n",
    "}\n",
    "\n",
    "ul.cloud a[data-weight=\"1\"] { --size: 1; }\n",
    "ul.cloud a[data-weight=\"2\"] { --size: 2; }\n",
    "ul.cloud a[data-weight=\"3\"] { --size: 3; }\n",
    "ul.cloud a[data-weight=\"4\"] { --size: 4; }\n",
    "ul.cloud a[data-weight=\"5\"] { --size: 6; }\n",
    "ul.cloud a[data-weight=\"6\"] { --size: 8; }\n",
    "ul.cloud a[data-weight=\"7\"] { --size: 10; }\n",
    "ul.cloud a[data-weight=\"8\"] { --size: 13; }\n",
    "ul.cloud a[data-weight=\"9\"] { --size: 16; }\n",
    "\n",
    "ul[data-show-value] a::after {\n",
    "  content: \" (\" attr(data-weight) \")\";\n",
    "  font-size: 1rem;\n",
    "}\n",
    "\n",
    "ul.cloud li:nth-child(2n+1) a { --color: #181; }\n",
    "ul.cloud li:nth-child(3n+1) a { --color: #33a; }\n",
    "ul.cloud li:nth-child(4n+1) a { --color: #c38; }\n",
    "</style>"
   ]
  },
  {
   "cell_type": "code",
   "execution_count": 4,
   "id": "27ef10db",
   "metadata": {},
   "outputs": [],
   "source": [
    "dados = '''\n",
    "<ul class=\"cloud\">\n",
    "  <li><a data-weight=\"3\">Python</a></li>\n",
    "  <li><a data-weight=\"2\">Ember</a></li>\n",
    "  <li><a data-weight=\"5\">Sass</a></li>\n",
    "  <li><a data-weight=\"8\">HTML</a></li>\n",
    "  <li><a data-weight=\"6\">FlexBox</a></li>\n",
    "  <li><a data-weight=\"4\">API</a></li>\n",
    "  <li><a data-weight=\"5\">VueJS</a></li>\n",
    "  <li><a data-weight=\"6\">Grid</a></li>\n",
    "  <li><a data-weight=\"3\">Rest</a></li>\n",
    "  <li><a data-weight=\"9\">JavaScript</a></li>\n",
    "  <li><a data-weight=\"3\">Animation</a></li>\n",
    "  <li><a data-weight=\"7\">React</a></li>\n",
    "  <li><a data-weight=\"8\">CSS</a></li>\n",
    "  <li><a data-weight=\"1\">Cache</a></li>\n",
    "  <li><a data-weight=\"3\">Less</a></li>\n",
    "</ul>\n",
    "'''"
   ]
  },
  {
   "cell_type": "code",
   "execution_count": 5,
   "id": "a09fc70a",
   "metadata": {},
   "outputs": [
    {
     "data": {
      "text/html": [
       "\n",
       "<ul class=\"cloud\">\n",
       "  <li><a data-weight=\"3\">Python</a></li>\n",
       "  <li><a data-weight=\"2\">Ember</a></li>\n",
       "  <li><a data-weight=\"5\">Sass</a></li>\n",
       "  <li><a data-weight=\"8\">HTML</a></li>\n",
       "  <li><a data-weight=\"6\">FlexBox</a></li>\n",
       "  <li><a data-weight=\"4\">API</a></li>\n",
       "  <li><a data-weight=\"5\">VueJS</a></li>\n",
       "  <li><a data-weight=\"6\">Grid</a></li>\n",
       "  <li><a data-weight=\"3\">Rest</a></li>\n",
       "  <li><a data-weight=\"9\">JavaScript</a></li>\n",
       "  <li><a data-weight=\"3\">Animation</a></li>\n",
       "  <li><a data-weight=\"7\">React</a></li>\n",
       "  <li><a data-weight=\"8\">CSS</a></li>\n",
       "  <li><a data-weight=\"1\">Cache</a></li>\n",
       "  <li><a data-weight=\"3\">Less</a></li>\n",
       "</ul>\n"
      ],
      "text/plain": [
       "<IPython.core.display.HTML object>"
      ]
     },
     "metadata": {},
     "output_type": "display_data"
    }
   ],
   "source": [
    "display(HTML(dados))"
   ]
  },
  {
   "cell_type": "code",
   "execution_count": 6,
   "id": "7cfc1d0a",
   "metadata": {},
   "outputs": [],
   "source": [
    "texto = '''\n",
    "Python é a linguagem ideal para o primeiro contato com programação. Além da sua sintaxe simples e muito poderosa, Python tem diversas aplicações como: desenvolvimento web, análise de dados, inteligência artificial e automatização de tarefas. Neste curso presencial você aprenderá a lógica de programação para conquistar fluência na linguagem. A comunidade Python é a que mais cresce, assim como sua demanda de profissionais no mercado.\n",
    "'''"
   ]
  },
  {
   "cell_type": "code",
   "execution_count": 7,
   "id": "c82fd4b1",
   "metadata": {},
   "outputs": [
    {
     "data": {
      "text/html": [
       "<img src=\"https://www.kdnuggets.com/wp-content/uploads/text-tokens-tokenization-manning.jpg\">"
      ],
      "text/plain": [
       "<IPython.core.display.HTML object>"
      ]
     },
     "metadata": {},
     "output_type": "display_data"
    }
   ],
   "source": [
    "display(HTML('<img src=\"https://www.kdnuggets.com/wp-content/uploads/text-tokens-tokenization-manning.jpg\">'))"
   ]
  },
  {
   "cell_type": "code",
   "execution_count": 8,
   "id": "b4eae29b",
   "metadata": {},
   "outputs": [],
   "source": [
    "lista_palavras_unicas = []\n",
    "lista_frequencia_palavras = []"
   ]
  },
  {
   "cell_type": "code",
   "execution_count": 9,
   "id": "a8716991",
   "metadata": {},
   "outputs": [],
   "source": [
    "texto = texto.lower()"
   ]
  },
  {
   "cell_type": "code",
   "execution_count": 10,
   "id": "26717303",
   "metadata": {},
   "outputs": [],
   "source": [
    "import re\n",
    "\n",
    "texto = re.sub('[\\W+]', ' ', texto)"
   ]
  },
  {
   "cell_type": "code",
   "execution_count": 11,
   "id": "f182e7db",
   "metadata": {},
   "outputs": [],
   "source": [
    "# tirar as stop words\n",
    "stop_words_portugues = ['de', 'a', 'o', 'que', 'e', 'é', 'do', 'da', 'em', 'um', 'para', 'com', 'não', 'uma', 'os', 'no', 'se', 'na', 'por', 'mais', 'as', 'dos', 'como', 'mas', 'ao', 'ele', 'das', 'à', 'seu', 'sua', 'ou', 'quando', 'muito', 'nos', 'já', 'eu', 'também', 'só', 'pelo', 'pela', 'até', 'isso', 'ela', 'entre', 'depois', 'sem', 'mesmo', 'aos', 'seus', 'quem', 'nas', 'me', 'esse', 'eles', 'você', 'essa', 'num', 'nem', 'suas', 'meu', 'às', 'minha', 'numa', 'pelos', 'elas', 'qual', 'nós', 'lhe', 'deles', 'essas', 'esses', 'pelas', 'este', 'dele', 'tu', 'te', 'vocês', 'vos', 'lhes', 'meus', 'minhas', 'teu', 'tua', 'teus', 'tuas', 'nosso', 'nossa', 'nossos', 'nossas', 'dela', 'delas', 'esta', 'estes', 'estas', 'aquele', 'aquela', 'aqueles', 'aquelas', 'isto', 'aquilo', 'estou', 'está', 'estamos', 'estão', 'estive', 'esteve', 'estivemos', 'estiveram', 'estava', 'estávamos', 'estavam', 'estivera', 'estivéramos', 'esteja', 'estejamos', 'estejam', 'estivesse', 'estivéssemos', 'estivessem', 'estiver', 'estivermos', 'estiverem', 'hei', 'há', 'havemos', 'hão', 'houve', 'houvemos', 'houveram', 'houvera', 'houvéramos', 'haja', 'hajamos', 'hajam', 'houvesse', 'houvéssemos', 'houvessem', 'houver', 'houvermos', 'houverem', 'houverei', 'houverá', 'houveremos', 'houverão', 'houveria', 'houveríamos', 'houveriam', 'sou', 'somos', 'são', 'era', 'éramos', 'eram', 'fui', 'foi', 'fomos', 'foram', 'fora', 'fôramos', 'seja', 'sejamos', 'sejam', 'fosse', 'fôssemos', 'fossem', 'for', 'formos', 'forem', 'serei', 'será', 'seremos', 'serão', 'seria', 'seríamos', 'seriam', 'tenho', 'tem', 'temos', 'tém', 'tinha', 'tínhamos', 'tinham', 'tive', 'teve', 'tivemos', 'tiveram', 'tivera', 'tivéramos', 'tenha', 'tenhamos', 'tenham', 'tivesse', 'tivéssemos', 'tivessem', 'tiver', 'tivermos', 'tiverem', 'terei', 'terá', 'teremos', 'terão', 'teria', 'teríamos', 'teriam']"
   ]
  },
  {
   "cell_type": "code",
   "execution_count": 12,
   "id": "0238a2e0",
   "metadata": {},
   "outputs": [],
   "source": [
    "lista_palavras = texto.split()"
   ]
  },
  {
   "cell_type": "code",
   "execution_count": 13,
   "id": "1fc8901f",
   "metadata": {},
   "outputs": [],
   "source": [
    "for palavra in lista_palavras:\n",
    "    if(palavra not in lista_palavras_unicas):\n",
    "        lista_palavras_unicas.append(palavra)"
   ]
  },
  {
   "cell_type": "code",
   "execution_count": 14,
   "id": "9f233d3f",
   "metadata": {},
   "outputs": [
    {
     "name": "stdout",
     "output_type": "stream",
     "text": [
      "65 50\n"
     ]
    }
   ],
   "source": [
    "print(len(lista_palavras), len(lista_palavras_unicas))"
   ]
  },
  {
   "cell_type": "code",
   "execution_count": 15,
   "id": "fe2e801d",
   "metadata": {},
   "outputs": [],
   "source": [
    "for palavra in lista_palavras_unicas:\n",
    "    lista_frequencia_palavras.append(lista_palavras.count(palavra))"
   ]
  },
  {
   "cell_type": "code",
   "execution_count": 16,
   "id": "23b3590a",
   "metadata": {},
   "outputs": [
    {
     "data": {
      "text/plain": [
       "[4, 4, 3, 2, 2, 2, 2, 2, 2, 2]"
      ]
     },
     "execution_count": 16,
     "metadata": {},
     "output_type": "execute_result"
    }
   ],
   "source": [
    "sorted(lista_frequencia_palavras, reverse=True)[:10]"
   ]
  },
  {
   "cell_type": "code",
   "execution_count": null,
   "id": "30c6ae96",
   "metadata": {},
   "outputs": [],
   "source": [
    "# Regra de três\n",
    "# 4 - 9\n",
    "# x - numero_normalizado\n",
    "# Tem que ser número inteiro\n"
   ]
  },
  {
   "cell_type": "code",
   "execution_count": 17,
   "id": "60cbb324",
   "metadata": {},
   "outputs": [
    {
     "name": "stdout",
     "output_type": "stream",
     "text": [
      "3 python\n",
      "2 é\n",
      "4 a\n",
      "2 linguagem\n",
      "1 ideal\n",
      "2 para\n",
      "1 o\n",
      "1 primeiro\n",
      "1 contato\n",
      "1 com\n",
      "2 programação\n",
      "1 além\n",
      "1 da\n",
      "2 sua\n",
      "1 sintaxe\n",
      "1 simples\n",
      "2 e\n",
      "1 muito\n",
      "1 poderosa\n",
      "1 tem\n",
      "1 diversas\n",
      "1 aplicações\n",
      "2 como\n",
      "1 desenvolvimento\n",
      "1 web\n",
      "1 análise\n",
      "4 de\n",
      "1 dados\n",
      "1 inteligência\n",
      "1 artificial\n",
      "1 automatização\n",
      "1 tarefas\n",
      "1 neste\n",
      "1 curso\n",
      "1 presencial\n",
      "1 você\n",
      "1 aprenderá\n",
      "1 lógica\n",
      "1 conquistar\n",
      "1 fluência\n",
      "1 na\n",
      "1 comunidade\n",
      "1 que\n",
      "1 mais\n",
      "1 cresce\n",
      "1 assim\n",
      "1 demanda\n",
      "1 profissionais\n",
      "1 no\n",
      "1 mercado\n"
     ]
    }
   ],
   "source": [
    "for i in range(len(lista_palavras_unicas)):\n",
    "    print(lista_frequencia_palavras[i], lista_palavras_unicas[i])"
   ]
  },
  {
   "cell_type": "code",
   "execution_count": 18,
   "id": "29ac3998",
   "metadata": {},
   "outputs": [],
   "source": [
    "elemento = '<li><a data-weight=\"{}\">{}</a></li>'"
   ]
  },
  {
   "cell_type": "code",
   "execution_count": 19,
   "id": "18de5653",
   "metadata": {},
   "outputs": [
    {
     "data": {
      "text/plain": [
       "'<li><a data-weight=\"3\">python</a></li>'"
      ]
     },
     "execution_count": 19,
     "metadata": {},
     "output_type": "execute_result"
    }
   ],
   "source": [
    "elemento.format('3', 'python')"
   ]
  },
  {
   "cell_type": "code",
   "execution_count": 20,
   "id": "070200d9",
   "metadata": {},
   "outputs": [],
   "source": [
    "lista_elementos = ''\n",
    "\n",
    "for i in range(len(lista_palavras_unicas)):\n",
    "    lista_elementos = lista_elementos + elemento.format(lista_frequencia_palavras[i], lista_palavras_unicas[i])\n",
    "\n",
    "dados = f'''<ul class=\"cloud\">\n",
    "{lista_elementos}\n",
    "</ul>\n",
    "'''"
   ]
  },
  {
   "cell_type": "code",
   "execution_count": 21,
   "id": "e78ceffa",
   "metadata": {},
   "outputs": [
    {
     "data": {
      "text/plain": [
       "'<ul class=\"cloud\">\\n<li><a data-weight=\"3\">python</a></li><li><a data-weight=\"2\">é</a></li><li><a data-weight=\"4\">a</a></li><li><a data-weight=\"2\">linguagem</a></li><li><a data-weight=\"1\">ideal</a></li><li><a data-weight=\"2\">para</a></li><li><a data-weight=\"1\">o</a></li><li><a data-weight=\"1\">primeiro</a></li><li><a data-weight=\"1\">contato</a></li><li><a data-weight=\"1\">com</a></li><li><a data-weight=\"2\">programação</a></li><li><a data-weight=\"1\">além</a></li><li><a data-weight=\"1\">da</a></li><li><a data-weight=\"2\">sua</a></li><li><a data-weight=\"1\">sintaxe</a></li><li><a data-weight=\"1\">simples</a></li><li><a data-weight=\"2\">e</a></li><li><a data-weight=\"1\">muito</a></li><li><a data-weight=\"1\">poderosa</a></li><li><a data-weight=\"1\">tem</a></li><li><a data-weight=\"1\">diversas</a></li><li><a data-weight=\"1\">aplicações</a></li><li><a data-weight=\"2\">como</a></li><li><a data-weight=\"1\">desenvolvimento</a></li><li><a data-weight=\"1\">web</a></li><li><a data-weight=\"1\">análise</a></li><li><a data-weight=\"4\">de</a></li><li><a data-weight=\"1\">dados</a></li><li><a data-weight=\"1\">inteligência</a></li><li><a data-weight=\"1\">artificial</a></li><li><a data-weight=\"1\">automatização</a></li><li><a data-weight=\"1\">tarefas</a></li><li><a data-weight=\"1\">neste</a></li><li><a data-weight=\"1\">curso</a></li><li><a data-weight=\"1\">presencial</a></li><li><a data-weight=\"1\">você</a></li><li><a data-weight=\"1\">aprenderá</a></li><li><a data-weight=\"1\">lógica</a></li><li><a data-weight=\"1\">conquistar</a></li><li><a data-weight=\"1\">fluência</a></li><li><a data-weight=\"1\">na</a></li><li><a data-weight=\"1\">comunidade</a></li><li><a data-weight=\"1\">que</a></li><li><a data-weight=\"1\">mais</a></li><li><a data-weight=\"1\">cresce</a></li><li><a data-weight=\"1\">assim</a></li><li><a data-weight=\"1\">demanda</a></li><li><a data-weight=\"1\">profissionais</a></li><li><a data-weight=\"1\">no</a></li><li><a data-weight=\"1\">mercado</a></li>\\n</ul>\\n'"
      ]
     },
     "execution_count": 21,
     "metadata": {},
     "output_type": "execute_result"
    }
   ],
   "source": [
    "dados"
   ]
  },
  {
   "cell_type": "code",
   "execution_count": 22,
   "id": "26f10bf5",
   "metadata": {},
   "outputs": [
    {
     "data": {
      "text/html": [
       "<ul class=\"cloud\">\n",
       "<li><a data-weight=\"3\">python</a></li><li><a data-weight=\"2\">é</a></li><li><a data-weight=\"4\">a</a></li><li><a data-weight=\"2\">linguagem</a></li><li><a data-weight=\"1\">ideal</a></li><li><a data-weight=\"2\">para</a></li><li><a data-weight=\"1\">o</a></li><li><a data-weight=\"1\">primeiro</a></li><li><a data-weight=\"1\">contato</a></li><li><a data-weight=\"1\">com</a></li><li><a data-weight=\"2\">programação</a></li><li><a data-weight=\"1\">além</a></li><li><a data-weight=\"1\">da</a></li><li><a data-weight=\"2\">sua</a></li><li><a data-weight=\"1\">sintaxe</a></li><li><a data-weight=\"1\">simples</a></li><li><a data-weight=\"2\">e</a></li><li><a data-weight=\"1\">muito</a></li><li><a data-weight=\"1\">poderosa</a></li><li><a data-weight=\"1\">tem</a></li><li><a data-weight=\"1\">diversas</a></li><li><a data-weight=\"1\">aplicações</a></li><li><a data-weight=\"2\">como</a></li><li><a data-weight=\"1\">desenvolvimento</a></li><li><a data-weight=\"1\">web</a></li><li><a data-weight=\"1\">análise</a></li><li><a data-weight=\"4\">de</a></li><li><a data-weight=\"1\">dados</a></li><li><a data-weight=\"1\">inteligência</a></li><li><a data-weight=\"1\">artificial</a></li><li><a data-weight=\"1\">automatização</a></li><li><a data-weight=\"1\">tarefas</a></li><li><a data-weight=\"1\">neste</a></li><li><a data-weight=\"1\">curso</a></li><li><a data-weight=\"1\">presencial</a></li><li><a data-weight=\"1\">você</a></li><li><a data-weight=\"1\">aprenderá</a></li><li><a data-weight=\"1\">lógica</a></li><li><a data-weight=\"1\">conquistar</a></li><li><a data-weight=\"1\">fluência</a></li><li><a data-weight=\"1\">na</a></li><li><a data-weight=\"1\">comunidade</a></li><li><a data-weight=\"1\">que</a></li><li><a data-weight=\"1\">mais</a></li><li><a data-weight=\"1\">cresce</a></li><li><a data-weight=\"1\">assim</a></li><li><a data-weight=\"1\">demanda</a></li><li><a data-weight=\"1\">profissionais</a></li><li><a data-weight=\"1\">no</a></li><li><a data-weight=\"1\">mercado</a></li>\n",
       "</ul>\n"
      ],
      "text/plain": [
       "<IPython.core.display.HTML object>"
      ]
     },
     "metadata": {},
     "output_type": "display_data"
    }
   ],
   "source": [
    "display(HTML(dados))"
   ]
  }
 ],
 "metadata": {
  "kernelspec": {
   "display_name": "Python 3",
   "language": "python",
   "name": "python3"
  },
  "language_info": {
   "codemirror_mode": {
    "name": "ipython",
    "version": 3
   },
   "file_extension": ".py",
   "mimetype": "text/x-python",
   "name": "python",
   "nbconvert_exporter": "python",
   "pygments_lexer": "ipython3",
   "version": "3.8.8"
  }
 },
 "nbformat": 4,
 "nbformat_minor": 5
}
